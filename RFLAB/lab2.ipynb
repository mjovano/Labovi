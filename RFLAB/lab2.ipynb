{
 "cells": [
  {
   "cell_type": "code",
   "execution_count": 32,
   "metadata": {},
   "outputs": [
    {
     "name": "stdout",
     "output_type": "stream",
     "text": [
      "Collecting python-magic-bin==0.4.14\n",
      "  Downloading python_magic_bin-0.4.14-py2.py3-none-win_amd64.whl.metadata (710 bytes)\n",
      "Downloading python_magic_bin-0.4.14-py2.py3-none-win_amd64.whl (409 kB)\n",
      "   ---------------------------------------- 0.0/409.3 kB ? eta -:--:--\n",
      "   ---------------------------------------- 0.0/409.3 kB ? eta -:--:--\n",
      "   - -------------------------------------- 10.2/409.3 kB ? eta -:--:--\n",
      "   ----- --------------------------------- 61.4/409.3 kB 550.5 kB/s eta 0:00:01\n",
      "   ----------------------------------- ---- 358.4/409.3 kB 2.5 MB/s eta 0:00:01\n",
      "   ---------------------------------------- 409.3/409.3 kB 2.6 MB/s eta 0:00:00\n",
      "Installing collected packages: python-magic-bin\n",
      "Successfully installed python-magic-bin-0.4.14\n",
      "Note: you may need to restart the kernel to use updated packages.\n"
     ]
    }
   ],
   "source": [
    "pip install python-magic-bin==0.4.14\n"
   ]
  },
  {
   "cell_type": "code",
   "execution_count": 43,
   "metadata": {},
   "outputs": [
    {
     "name": "stdout",
     "output_type": "stream",
     "text": [
      "  file_name extension                               md5  \\\n",
      "0     Dokaz            187b0341b64a0e16d74ea3b50e22e6c2   \n",
      "1     Dokaz            a0c34dd882f1e7e5af2341b1aadb532c   \n",
      "2     Dokaz            40bba5dd7b99c5e99d0877993ec3f3fb   \n",
      "3     Dokaz            7a2fdf83ebce571af7fcb93a8825ead1   \n",
      "4     Dokaz            40bba5dd7b99c5e99d0877993ec3f3fb   \n",
      "5     Dokaz            8de0128acae226c00efb5f98a9486e68   \n",
      "6     Dokaz            098cb2f52dda9e3195075d765a9ff01f   \n",
      "7     Dokaz            4266ea20320c598bc5d7b1d731e3e9e9   \n",
      "\n",
      "                                       sha1  \\\n",
      "0  08152ff79a16f2a181174eb5fe8de0197f4d722f   \n",
      "1  55afda15a501e69ee9bf94fd26e9d74239127e01   \n",
      "2  19b85cc663198f1145078e17dc4af9966b4b9e86   \n",
      "3  e6d6de3bc2c41cccc1d71a27ec175b0bf2c73e20   \n",
      "4  19b85cc663198f1145078e17dc4af9966b4b9e86   \n",
      "5  c15e32d27635f248c1c8b66bb012850e5b342119   \n",
      "6  fb5184f27b5780c74714d89f6c43da0c48e8cd3a   \n",
      "7  1a30a1d139131e7105a1896d7719c85c03003a59   \n",
      "\n",
      "                                              sha256  \\\n",
      "0  5f90ecf090772e3366353171a2e8b9c4001934cdc3a5e0...   \n",
      "1  826626284dca9d999dff621e257b86f4c50b884ecff512...   \n",
      "2  648e6819c965d82acce9dbd3eddb68a0fe2f5c0d1153f2...   \n",
      "3  0f56464717fa229b209549d66e32144644834ae3417ab3...   \n",
      "4  648e6819c965d82acce9dbd3eddb68a0fe2f5c0d1153f2...   \n",
      "5  348175d0b34e14679b11580f653661d0d5195dc6ee7707...   \n",
      "6  7b38723a56bae8faf5c19425592ddd02433f55728e001f...   \n",
      "7  3e174794698cbdf84d9a5cd352f755d0e6bdfc5dc65e0d...   \n",
      "\n",
      "                                        magic_number original_extension  \n",
      "0                                         text/plain               .txt  \n",
      "1                                    application/pdf               .pdf  \n",
      "2                                    application/pdf               .pdf  \n",
      "3  application/vnd.openxmlformats-officedocument....              .docx  \n",
      "4                                    application/pdf               .pdf  \n",
      "5                                    application/pdf               .pdf  \n",
      "6  application/vnd.openxmlformats-officedocument....              .docx  \n",
      "7                                         image/jpeg               .jpg  \n"
     ]
    }
   ],
   "source": [
    "import os\n",
    "import pandas as pd\n",
    "import hashlib\n",
    "import magic\n",
    "import mimetypes\n",
    "\n",
    "dir_path = 'Dokaz'\n",
    "\n",
    "file_names = []\n",
    "extensions = []\n",
    "md5s = []\n",
    "sha1s = []\n",
    "sha256s = []\n",
    "magic_numbers = []\n",
    "original_extensions = []\n",
    "\n",
    "f = magic.Magic(mime=True)\n",
    "def file2hash(filename, hash_function):\n",
    "    with open(filename, 'rb', buffering=0) as f:\n",
    "        return hash_function(f.read()).hexdigest()\n",
    "\n",
    "for file in os.listdir(dir_path):\n",
    "\n",
    "    path = os.path.join(dir_path, file)\n",
    "   \n",
    "    if os.path.isfile(os.path.join(dir_path, file)):\n",
    "        split = os.path.splitext(dir_path)\n",
    "        file_names.append(split[0])\n",
    "        extensions.append(split[1])\n",
    "        md5s.append(file2hash(path,hashlib.md5))\n",
    "        sha1s.append(file2hash(path,hashlib.sha1))\n",
    "        sha256s.append(file2hash(path,hashlib.sha256))\n",
    "\n",
    "        magic_number = f.from_file(path)\n",
    "        magic_numbers.append(magic_number)\n",
    "        original_extensions.append(mimetypes.guess_all_extensions(magic_number.lower())[0])\n",
    "\n",
    "\n",
    "df = pd.DataFrame({'file_name': file_names, 'extension': extensions, 'md5': md5s, 'sha1': sha1s, 'sha256': sha256s, 'magic_number': magic_numbers, 'original_extension': original_extensions })\n",
    "\n",
    "print(df)\n",
    "\n"
   ]
  }
 ],
 "metadata": {
  "kernelspec": {
   "display_name": "lab",
   "language": "python",
   "name": "python3"
  },
  "language_info": {
   "codemirror_mode": {
    "name": "ipython",
    "version": 3
   },
   "file_extension": ".py",
   "mimetype": "text/x-python",
   "name": "python",
   "nbconvert_exporter": "python",
   "pygments_lexer": "ipython3",
   "version": "3.12.2"
  },
  "orig_nbformat": 4
 },
 "nbformat": 4,
 "nbformat_minor": 2
}
