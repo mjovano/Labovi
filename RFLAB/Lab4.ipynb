{
 "cells": [
  {
   "cell_type": "code",
   "execution_count": null,
   "metadata": {
    "vscode": {
     "languageId": "plaintext"
    }
   },
   "outputs": [],
   "source": [
    "import os, sys, optparse\n",
    "from exif import Image\n",
    "import webbrowser\n",
    "from pypdf import PdfReader, PdfWriter\n",
    "\n",
    "def convertGPScoordinate(coordinate, coordinate_ref):\n",
    "    decimal_degrees = coordinate[0] + \\\n",
    "                      coordinate[1] / 60 + \\\n",
    "                      coordinate[2] / 3600\n",
    "    \n",
    "    if coordinate_ref == \"S\" or coordinate_ref == \"W\":\n",
    "        decimal_degrees = -decimal_degrees\n",
    "    \n",
    "    return decimal_degrees\n",
    "\n",
    "def figMetaData(file_path):\n",
    "    img_doc = Image(open(file_path, \"rb\"))\n",
    "\n",
    "    if not img_doc.has_exif:\n",
    "        sys.exit(f\"Image does not contain EXIF data.\")\n",
    "    else:\n",
    "        print(f\"Image contains EXIF (version {img_doc.exif_version}) data.\")\n",
    "        lat = convertGPScoordinate(img_doc.gps_latitude, img_doc.gps_latitude_ref)\n",
    "        long = convertGPScoordinate(img_doc.gps_longitude, img_doc.gps_longitude_ref)\n",
    "        webbrowser.open_new_tab(url + str(lat) + \",\" + str(long))\n",
    "        \n",
    "    print(f\"{dir(img_doc)}\\n\")\n",
    "\n",
    "\n",
    "def pdfMetaData(file_path):\n",
    "    pdf_doc = PdfReader(open(path, \"rb\"))\n",
    "    if pdf_doc.is_encrypted:\n",
    "        pdf_doc.decrypt(\"PASSWORD_GOES_HERE\")\n",
    "\n",
    "    pdfWriter = PdfWriter()\n",
    "    for pageNum in pdf_doc.pages:\n",
    "        pdfWriter.add_page(pageNum)\n",
    "    with open('decrypted_output.pdf', 'wb') as f:\n",
    "        pdfWriter.write(f)\n",
    "\n",
    "\n",
    "if __name__ == \"__main__\":\n",
    "    parser = optparse.OptionParser(\"Usage: python <script_name> -f <file>\")\n",
    "    parser.add_option(\"-f\", dest=\"file\", type=\"string\", help=\"please provide full path to the document\")\n",
    "\n",
    "    (options, args) = parser.parse_args()\n",
    "\n",
    "    path = options.file\n",
    "    if not path:\n",
    "        print(\"please provide full path to the document\")\n",
    "        sys.exit(parser.usage)\n",
    "\n",
    "    if any(path.endswith(ext) for ext in (\".jpg\", \".bmp\", \".jpeg\",)):\n",
    "        figMetaData(path)\n",
    "    elif path.endswith(\".pdf\"):\n",
    "        pdfMetaData(path)\n",
    "    else:\n",
    "        print(\"File extension not supported/recognized... Make sure the file has the correct extension...\")"
   ]
  }
 ],
 "metadata": {
  "kernelspec": {
   "display_name": "okruzenje",
   "language": "python",
   "name": "python3"
  },
  "language_info": {
   "codemirror_mode": {
    "name": "ipython",
    "version": 3
   },
   "file_extension": ".py",
   "mimetype": "text/x-python",
   "name": "python",
   "nbconvert_exporter": "python",
   "pygments_lexer": "ipython3",
   "version": "3.12.0"
  }
 },
 "nbformat": 4,
 "nbformat_minor": 2
}
